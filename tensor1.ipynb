{
 "cells": [
  {
   "cell_type": "markdown",
   "metadata": {},
   "source": [
    "# Basic Pytorch stuff - version, defining variables, ..."
   ]
  },
  {
   "cell_type": "code",
   "execution_count": 1,
   "metadata": {},
   "outputs": [
    {
     "name": "stdout",
     "output_type": "stream",
     "text": [
      "2.0.1+cu117\n"
     ]
    }
   ],
   "source": [
    "import torch\n",
    "print(torch.__version__)"
   ]
  },
  {
   "cell_type": "markdown",
   "metadata": {},
   "source": [
    "Pytorch version number is 2.0.0 + \n",
    "\n",
    "This version of the torch library is compatible with CUDA 11.7"
   ]
  },
  {
   "cell_type": "markdown",
   "metadata": {},
   "source": [
    "### About torch.tensor"
   ]
  },
  {
   "cell_type": "markdown",
   "metadata": {},
   "source": [
    "torch.Tensor is a multi dimensional matrix class \n",
    "\n",
    "This class contains elements of the same data type"
   ]
  },
  {
   "cell_type": "markdown",
   "metadata": {},
   "source": [
    "##### Creating a torch tensor for an array"
   ]
  },
  {
   "cell_type": "code",
   "execution_count": 10,
   "metadata": {},
   "outputs": [
    {
     "name": "stdout",
     "output_type": "stream",
     "text": [
      "device of tensor is  cpu\n",
      "tensor:  tensor([[10., 20.],\n",
      "        [ 4.,  5.]])\n",
      "array:  [[1, 2], [4, 5]]\n"
     ]
    }
   ],
   "source": [
    "\n",
    "import numpy as np\n",
    "array = [[1,2],[4,5]]\n",
    "tensor = torch.Tensor(array)\n",
    "print(\"device of tensor is \", tensor.device)\n",
    "\n",
    "# Modifying tensor \n",
    "# tensor[0] = [10,20] # TypeError: can't assign a list to a torch.FloatTensor\n",
    "# tensor[0] = np.array([10,20]) # TypeError: can't assign a numpy.ndarray to a torch.FloatTensor\n",
    "\n",
    "tensor[0] = torch.tensor([10,20])\n",
    "\n",
    "print(\"tensor: \", tensor)\n",
    "print(\"array: \", array)\n",
    "\n"
   ]
  },
  {
   "cell_type": "markdown",
   "metadata": {},
   "source": [
    "##### Copying a numpy array as a tensor"
   ]
  },
  {
   "cell_type": "code",
   "execution_count": 19,
   "metadata": {},
   "outputs": [
    {
     "name": "stdout",
     "output_type": "stream",
     "text": [
      "array:  [1 2 3]\n",
      "tensor:  tensor([1, 2, 3])\n",
      "memory location of array:  140228609685040\n",
      "memory location of tensor:  140228609727904\n",
      "tensor:  tensor([888,   2,   3])\n",
      "array:  [888   2   3]\n",
      "tensor:  tensor([1, 2, 3])\n",
      "array:  [1 2 3]\n",
      "memory location of array:  140228609685040\n",
      "memory location of tensor:  140228609727904\n",
      "memory location of test_value:  140232529822288\n",
      "memory location of test_value:  140228609686864\n"
     ]
    }
   ],
   "source": [
    "array = np.array([1,2,3])\n",
    "tensor = torch.as_tensor(array)\n",
    "test_value1 = 12\n",
    "test_value2 = np.array([1,2,3])\n",
    "print(\"array: \", array)\n",
    "print(\"tensor: \", tensor)\n",
    "print(\"memory location of array: \", id(array))\n",
    "print(\"memory location of tensor: \", id(tensor))\n",
    "\n",
    "## Changing the tensor\n",
    "tensor[0] = 888\n",
    "print(\"tensor: \", tensor)\n",
    "print(\"array: \", array)\n",
    "\n",
    "## Changing the array\n",
    "array[0] = 1\n",
    "print(\"tensor: \", tensor)\n",
    "print(\"array: \", array)\n",
    "\n",
    "\n",
    "print(\"memory location of array: \", id(array))\n",
    "print(\"memory location of tensor: \", id(tensor))\n",
    "print(\"memory location of test_value: \", id(test_value1))\n",
    "print(\"memory location of test_value: \", id(test_value2))"
   ]
  },
  {
   "cell_type": "markdown",
   "metadata": {},
   "source": [
    "If we copy a numpy array - changing one doesnt effect the other but when we use .as_tensor() method - both the values seem to be entangled. Changing\n",
    "one changes the other."
   ]
  }
 ],
 "metadata": {
  "kernelspec": {
   "display_name": "base",
   "language": "python",
   "name": "python3"
  },
  "language_info": {
   "codemirror_mode": {
    "name": "ipython",
    "version": 3
   },
   "file_extension": ".py",
   "mimetype": "text/x-python",
   "name": "python",
   "nbconvert_exporter": "python",
   "pygments_lexer": "ipython3",
   "version": "3.10.9"
  },
  "orig_nbformat": 4
 },
 "nbformat": 4,
 "nbformat_minor": 2
}
