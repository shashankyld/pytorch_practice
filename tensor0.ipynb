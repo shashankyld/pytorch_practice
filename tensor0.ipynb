{
 "cells": [
  {
   "cell_type": "markdown",
   "metadata": {},
   "source": [
    "# Observing speed of using python, numpy, pytorch(cpu) and pytorch(gpu) tensors"
   ]
  },
  {
   "cell_type": "code",
   "execution_count": 2,
   "metadata": {},
   "outputs": [],
   "source": [
    "import torch \n",
    "import numpy as np"
   ]
  },
  {
   "cell_type": "markdown",
   "metadata": {},
   "source": [
    "### For small operations - gpu tensors are not necessary and are actually slower"
   ]
  },
  {
   "cell_type": "code",
   "execution_count": 92,
   "metadata": {},
   "outputs": [],
   "source": [
    "mat1 = [[1,2],[3,4]]\n",
    "mat2 = np.array([[1,2],[3,4]])\n",
    "mat3 = torch.tensor([[1,2],[3,4]])\n",
    "# Mat4 is gpu tensor\n",
    "mat4 = torch.tensor([[1,2],[3,4]], device='cuda')\n"
   ]
  },
  {
   "cell_type": "code",
   "execution_count": 94,
   "metadata": {},
   "outputs": [
    {
     "name": "stdout",
     "output_type": "stream",
     "text": [
      "Time taken by numpy array:  0.785254955291748\n",
      "Time taken by torch tensor:  2.163987636566162\n",
      "Time taken by torch gpu tensor:  5.435300827026367\n"
     ]
    }
   ],
   "source": [
    "import time \n",
    "# t0 = time.time()\n",
    "# for i in range(1000):\n",
    "#     mat1 = mat1 * 2\n",
    "# t1 = time.time()\n",
    "# print('Time taken by python list: ', t1-t0)\n",
    "\n",
    "t0 = time.time()\n",
    "for i in range(1000000):\n",
    "    mat2 = mat2 * 2\n",
    "t1 = time.time()\n",
    "print('Time taken by numpy array: ', t1-t0)\n",
    "\n",
    "t0 = time.time()\n",
    "for i in range(1000000):\n",
    "    mat3 = mat3 * 2\n",
    "t1 = time.time()\n",
    "print('Time taken by torch tensor: ', t1-t0)\n",
    "\n",
    "t0 = time.time()\n",
    "for i in range(1000000):\n",
    "    mat4 = mat4 * 2\n",
    "t1 = time.time()\n",
    "print('Time taken by torch gpu tensor: ', t1-t0)\n",
    "\n",
    "\n",
    "\n"
   ]
  },
  {
   "cell_type": "code",
   "execution_count": 105,
   "metadata": {},
   "outputs": [
    {
     "name": "stderr",
     "output_type": "stream",
     "text": [
      "100%|██████████| 1000/1000 [00:21<00:00, 45.83it/s]\n"
     ]
    },
    {
     "name": "stdout",
     "output_type": "stream",
     "text": [
      "Time taken by NumPy array:  21.819119691848755\n"
     ]
    },
    {
     "name": "stderr",
     "output_type": "stream",
     "text": [
      "100%|██████████| 1000/1000 [00:11<00:00, 88.07it/s]\n"
     ]
    },
    {
     "name": "stdout",
     "output_type": "stream",
     "text": [
      "Time taken by Torch tensor on CPU:  11.356083154678345\n"
     ]
    },
    {
     "name": "stderr",
     "output_type": "stream",
     "text": [
      "100%|██████████| 1000/1000 [00:00<00:00, 48614.39it/s]"
     ]
    },
    {
     "name": "stdout",
     "output_type": "stream",
     "text": [
      "Time taken by Torch GPU tensor:  0.02228260040283203\n"
     ]
    },
    {
     "name": "stderr",
     "output_type": "stream",
     "text": [
      "\n"
     ]
    }
   ],
   "source": [
    "import time\n",
    "import numpy as np\n",
    "import torch\n",
    "from tqdm import tqdm\n",
    "# Create NumPy array with a larger data type (e.g., float64)\n",
    "mat2 = np.random.rand(10000000).astype(np.float64)\n",
    "\n",
    "# Create Torch tensor on CPU\n",
    "mat3 = torch.rand(10000000)\n",
    "\n",
    "# Create Torch tensor on GPU (if available)\n",
    "if torch.cuda.is_available():\n",
    "    mat4 = torch.rand(10000000).cuda()\n",
    "else:\n",
    "    print(\"GPU not available. Skipping GPU test.\")\n",
    "\n",
    "# Measure time taken by NumPy array\n",
    "t0 = time.time()\n",
    "for i in tqdm(range(1000)):\n",
    "    mat2 = mat2 * 2\n",
    "t1 = time.time()\n",
    "print('Time taken by NumPy array: ', t1 - t0)\n",
    "\n",
    "# Measure time taken by Torch tensor on CPU\n",
    "t0 = time.time()\n",
    "for i in tqdm(range(1000)):\n",
    "    mat3 = mat3 * 2\n",
    "t1 = time.time()\n",
    "print('Time taken by Torch tensor on CPU: ', t1 - t0)\n",
    "\n",
    "# Measure time taken by Torch tensor on GPU (if available)\n",
    "if torch.cuda.is_available():\n",
    "    t0 = time.time()\n",
    "    for i in tqdm(range(1000)):\n",
    "        mat4 = mat4 * 2\n",
    "    t1 = time.time()\n",
    "    print('Time taken by Torch GPU tensor: ', t1 - t0)\n"
   ]
  }
 ],
 "metadata": {
  "kernelspec": {
   "display_name": "base",
   "language": "python",
   "name": "python3"
  },
  "language_info": {
   "codemirror_mode": {
    "name": "ipython",
    "version": 3
   },
   "file_extension": ".py",
   "mimetype": "text/x-python",
   "name": "python",
   "nbconvert_exporter": "python",
   "pygments_lexer": "ipython3",
   "version": "3.10.9"
  },
  "orig_nbformat": 4
 },
 "nbformat": 4,
 "nbformat_minor": 2
}
